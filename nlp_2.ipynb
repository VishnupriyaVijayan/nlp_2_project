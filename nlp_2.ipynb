{
  "nbformat": 4,
  "nbformat_minor": 0,
  "metadata": {
    "colab": {
      "provenance": []
    },
    "kernelspec": {
      "name": "python3",
      "display_name": "Python 3"
    },
    "language_info": {
      "name": "python"
    },
    "accelerator": "GPU",
    "gpuClass": "standard"
  },
  "cells": [
    {
      "cell_type": "code",
      "execution_count": 1,
      "metadata": {
        "colab": {
          "base_uri": "https://localhost:8080/"
        },
        "id": "1zLQAX-v7ouP",
        "outputId": "d854ed8d-3068-4b14-dd8d-c6fe98dc513e"
      },
      "outputs": [
        {
          "output_type": "stream",
          "name": "stderr",
          "text": [
            "[nltk_data] Downloading package stopwords to /root/nltk_data...\n",
            "[nltk_data]   Package stopwords is already up-to-date!\n",
            "[nltk_data] Downloading package wordnet to /root/nltk_data...\n",
            "[nltk_data]   Package wordnet is already up-to-date!\n",
            "[nltk_data] Downloading package omw-1.4 to /root/nltk_data...\n",
            "[nltk_data]   Package omw-1.4 is already up-to-date!\n"
          ]
        }
      ],
      "source": [
        "import numpy as np\n",
        "import pandas as pd\n",
        "\n",
        "# preprocessing \n",
        "import nltk\n",
        "from nltk.tokenize import word_tokenize\n",
        "nltk.download('stopwords')\n",
        "nltk.download('wordnet')\n",
        "nltk.download('omw-1.4')\n",
        "import re\n",
        "import string\n",
        "import gensim  \n",
        "from sklearn.feature_extraction.text import CountVectorizer, TfidfVectorizer # bags of words and TF IDF\n",
        "\n",
        "#split dataset\n",
        "from sklearn.model_selection import train_test_split\n",
        "from sklearn.model_selection import StratifiedKFold # For stratified splitting (helpful in imbalanced data)\n",
        "from sklearn.preprocessing import MultiLabelBinarizer \n",
        "\n",
        "# analyze result\n",
        "from sklearn import metrics\n",
        "from sklearn.metrics import precision_score, recall_score, f1_score, classification_report, confusion_matrix , make_scorer\n",
        "# cnn\n",
        "from keras.layers.regularization.dropout import Dropout\n",
        "import keras\n",
        "from keras.models import Sequential\n",
        "from keras.layers import Dense\n",
        "from keras.layers import LSTM\n",
        "from keras.layers import BatchNormalization\n",
        "from keras.layers import MaxPooling2D\n",
        "\n",
        "# Random forest\n",
        "from sklearn.ensemble import RandomForestClassifier\n",
        "from sklearn.naive_bayes import GaussianNB\n",
        "from sklearn.linear_model import LogisticRegression\n",
        "\n",
        "\n",
        "import warnings\n",
        "warnings.filterwarnings(\"ignore\")"
      ]
    },
    {
      "cell_type": "code",
      "source": [
        "# Exploratory analysis of data\n",
        "data=pd.read_csv(\"/content/data.csv\",encoding='unicode_escape')\n",
        "data.head()"
      ],
      "metadata": {
        "colab": {
          "base_uri": "https://localhost:8080/",
          "height": 206
        },
        "id": "tdRZmTEA9wFy",
        "outputId": "29f874f2-1883-4642-83b9-3e9dd9a16337"
      },
      "execution_count": 2,
      "outputs": [
        {
          "output_type": "execute_result",
          "data": {
            "text/plain": [
              "                                            Sentence Sentiment\n",
              "0  The GeoSolutions technology will leverage Bene...  positive\n",
              "1  $ESI on lows, down $1.50 to $2.50 BK a real po...  negative\n",
              "2  For the last quarter of 2010 , Componenta 's n...  positive\n",
              "3  According to the Finnish-Russian Chamber of Co...   neutral\n",
              "4  The Swedish buyout firm has sold its remaining...   neutral"
            ],
            "text/html": [
              "\n",
              "  <div id=\"df-d6fb1d02-d713-49f3-b1e7-e54ad1dc0b4d\">\n",
              "    <div class=\"colab-df-container\">\n",
              "      <div>\n",
              "<style scoped>\n",
              "    .dataframe tbody tr th:only-of-type {\n",
              "        vertical-align: middle;\n",
              "    }\n",
              "\n",
              "    .dataframe tbody tr th {\n",
              "        vertical-align: top;\n",
              "    }\n",
              "\n",
              "    .dataframe thead th {\n",
              "        text-align: right;\n",
              "    }\n",
              "</style>\n",
              "<table border=\"1\" class=\"dataframe\">\n",
              "  <thead>\n",
              "    <tr style=\"text-align: right;\">\n",
              "      <th></th>\n",
              "      <th>Sentence</th>\n",
              "      <th>Sentiment</th>\n",
              "    </tr>\n",
              "  </thead>\n",
              "  <tbody>\n",
              "    <tr>\n",
              "      <th>0</th>\n",
              "      <td>The GeoSolutions technology will leverage Bene...</td>\n",
              "      <td>positive</td>\n",
              "    </tr>\n",
              "    <tr>\n",
              "      <th>1</th>\n",
              "      <td>$ESI on lows, down $1.50 to $2.50 BK a real po...</td>\n",
              "      <td>negative</td>\n",
              "    </tr>\n",
              "    <tr>\n",
              "      <th>2</th>\n",
              "      <td>For the last quarter of 2010 , Componenta 's n...</td>\n",
              "      <td>positive</td>\n",
              "    </tr>\n",
              "    <tr>\n",
              "      <th>3</th>\n",
              "      <td>According to the Finnish-Russian Chamber of Co...</td>\n",
              "      <td>neutral</td>\n",
              "    </tr>\n",
              "    <tr>\n",
              "      <th>4</th>\n",
              "      <td>The Swedish buyout firm has sold its remaining...</td>\n",
              "      <td>neutral</td>\n",
              "    </tr>\n",
              "  </tbody>\n",
              "</table>\n",
              "</div>\n",
              "      <button class=\"colab-df-convert\" onclick=\"convertToInteractive('df-d6fb1d02-d713-49f3-b1e7-e54ad1dc0b4d')\"\n",
              "              title=\"Convert this dataframe to an interactive table.\"\n",
              "              style=\"display:none;\">\n",
              "        \n",
              "  <svg xmlns=\"http://www.w3.org/2000/svg\" height=\"24px\"viewBox=\"0 0 24 24\"\n",
              "       width=\"24px\">\n",
              "    <path d=\"M0 0h24v24H0V0z\" fill=\"none\"/>\n",
              "    <path d=\"M18.56 5.44l.94 2.06.94-2.06 2.06-.94-2.06-.94-.94-2.06-.94 2.06-2.06.94zm-11 1L8.5 8.5l.94-2.06 2.06-.94-2.06-.94L8.5 2.5l-.94 2.06-2.06.94zm10 10l.94 2.06.94-2.06 2.06-.94-2.06-.94-.94-2.06-.94 2.06-2.06.94z\"/><path d=\"M17.41 7.96l-1.37-1.37c-.4-.4-.92-.59-1.43-.59-.52 0-1.04.2-1.43.59L10.3 9.45l-7.72 7.72c-.78.78-.78 2.05 0 2.83L4 21.41c.39.39.9.59 1.41.59.51 0 1.02-.2 1.41-.59l7.78-7.78 2.81-2.81c.8-.78.8-2.07 0-2.86zM5.41 20L4 18.59l7.72-7.72 1.47 1.35L5.41 20z\"/>\n",
              "  </svg>\n",
              "      </button>\n",
              "      \n",
              "  <style>\n",
              "    .colab-df-container {\n",
              "      display:flex;\n",
              "      flex-wrap:wrap;\n",
              "      gap: 12px;\n",
              "    }\n",
              "\n",
              "    .colab-df-convert {\n",
              "      background-color: #E8F0FE;\n",
              "      border: none;\n",
              "      border-radius: 50%;\n",
              "      cursor: pointer;\n",
              "      display: none;\n",
              "      fill: #1967D2;\n",
              "      height: 32px;\n",
              "      padding: 0 0 0 0;\n",
              "      width: 32px;\n",
              "    }\n",
              "\n",
              "    .colab-df-convert:hover {\n",
              "      background-color: #E2EBFA;\n",
              "      box-shadow: 0px 1px 2px rgba(60, 64, 67, 0.3), 0px 1px 3px 1px rgba(60, 64, 67, 0.15);\n",
              "      fill: #174EA6;\n",
              "    }\n",
              "\n",
              "    [theme=dark] .colab-df-convert {\n",
              "      background-color: #3B4455;\n",
              "      fill: #D2E3FC;\n",
              "    }\n",
              "\n",
              "    [theme=dark] .colab-df-convert:hover {\n",
              "      background-color: #434B5C;\n",
              "      box-shadow: 0px 1px 3px 1px rgba(0, 0, 0, 0.15);\n",
              "      filter: drop-shadow(0px 1px 2px rgba(0, 0, 0, 0.3));\n",
              "      fill: #FFFFFF;\n",
              "    }\n",
              "  </style>\n",
              "\n",
              "      <script>\n",
              "        const buttonEl =\n",
              "          document.querySelector('#df-d6fb1d02-d713-49f3-b1e7-e54ad1dc0b4d button.colab-df-convert');\n",
              "        buttonEl.style.display =\n",
              "          google.colab.kernel.accessAllowed ? 'block' : 'none';\n",
              "\n",
              "        async function convertToInteractive(key) {\n",
              "          const element = document.querySelector('#df-d6fb1d02-d713-49f3-b1e7-e54ad1dc0b4d');\n",
              "          const dataTable =\n",
              "            await google.colab.kernel.invokeFunction('convertToInteractive',\n",
              "                                                     [key], {});\n",
              "          if (!dataTable) return;\n",
              "\n",
              "          const docLinkHtml = 'Like what you see? Visit the ' +\n",
              "            '<a target=\"_blank\" href=https://colab.research.google.com/notebooks/data_table.ipynb>data table notebook</a>'\n",
              "            + ' to learn more about interactive tables.';\n",
              "          element.innerHTML = '';\n",
              "          dataTable['output_type'] = 'display_data';\n",
              "          await google.colab.output.renderOutput(dataTable, element);\n",
              "          const docLink = document.createElement('div');\n",
              "          docLink.innerHTML = docLinkHtml;\n",
              "          element.appendChild(docLink);\n",
              "        }\n",
              "      </script>\n",
              "    </div>\n",
              "  </div>\n",
              "  "
            ]
          },
          "metadata": {},
          "execution_count": 2
        }
      ]
    },
    {
      "cell_type": "code",
      "source": [
        "data.info()"
      ],
      "metadata": {
        "colab": {
          "base_uri": "https://localhost:8080/"
        },
        "id": "pULPW7TP-Mu3",
        "outputId": "fe26e446-a8e3-4b89-bab2-01563eee9846"
      },
      "execution_count": 3,
      "outputs": [
        {
          "output_type": "stream",
          "name": "stdout",
          "text": [
            "<class 'pandas.core.frame.DataFrame'>\n",
            "RangeIndex: 5842 entries, 0 to 5841\n",
            "Data columns (total 2 columns):\n",
            " #   Column     Non-Null Count  Dtype \n",
            "---  ------     --------------  ----- \n",
            " 0   Sentence   5842 non-null   object\n",
            " 1   Sentiment  5842 non-null   object\n",
            "dtypes: object(2)\n",
            "memory usage: 91.4+ KB\n"
          ]
        }
      ]
    },
    {
      "cell_type": "code",
      "source": [
        "data=data.drop_duplicates()\n",
        "data.info()"
      ],
      "metadata": {
        "colab": {
          "base_uri": "https://localhost:8080/"
        },
        "id": "e5e7HAw--WHX",
        "outputId": "5b52383f-b0cb-4e8b-aca1-bef40700afcd"
      },
      "execution_count": 4,
      "outputs": [
        {
          "output_type": "stream",
          "name": "stdout",
          "text": [
            "<class 'pandas.core.frame.DataFrame'>\n",
            "Int64Index: 5836 entries, 0 to 5841\n",
            "Data columns (total 2 columns):\n",
            " #   Column     Non-Null Count  Dtype \n",
            "---  ------     --------------  ----- \n",
            " 0   Sentence   5836 non-null   object\n",
            " 1   Sentiment  5836 non-null   object\n",
            "dtypes: object(2)\n",
            "memory usage: 136.8+ KB\n"
          ]
        }
      ]
    },
    {
      "cell_type": "code",
      "source": [
        "data.Sentiment.value_counts().plot.bar()"
      ],
      "metadata": {
        "colab": {
          "base_uri": "https://localhost:8080/",
          "height": 316
        },
        "id": "q7SFqLBo-uG4",
        "outputId": "31c2c34d-d116-43c7-a67a-bc14823162b6"
      },
      "execution_count": 5,
      "outputs": [
        {
          "output_type": "execute_result",
          "data": {
            "text/plain": [
              "<matplotlib.axes._subplots.AxesSubplot at 0x7f89ff418400>"
            ]
          },
          "metadata": {},
          "execution_count": 5
        },
        {
          "output_type": "display_data",
          "data": {
            "text/plain": [
              "<Figure size 432x288 with 1 Axes>"
            ],
            "image/png": "[encoded data removed]"
          },
          "metadata": {
            "needs_background": "light"
          }
        }
      ]
    },
    {
      "cell_type": "code",
      "source": [
        "# Data preprocessing\n",
        "\n",
        "# with removal of stopwords\n",
        "\n",
        "stopwords = nltk.corpus.stopwords.words('english')\n",
        "wn = nltk.WordNetLemmatizer()\n",
        "\n",
        "def clean_text(text):\n",
        "    text = \"\".join([word for word in text if word not in string.punctuation])\n",
        "    text_tokenize = re.split('\\W+', text)\n",
        "    text_nostop = [word for word in text_tokenize if word not in stopwords]\n",
        "    #text_stemm = [ps.stem(x) for x in text_nostop]\n",
        "    text_lemm = [wn.lemmatize(x) for x in text_nostop]\n",
        "    return text_lemm\n",
        "\n",
        "def clean_text_nostop(text):\n",
        "    text = \"\".join([word for word in text if word not in string.punctuation])\n",
        "    text_tokenize = re.split('\\W+', text)\n",
        "    text_lemm = [wn.lemmatize(x) for x in text_tokenize]\n",
        "    return text_lemm    \n",
        "\n",
        "data['text_clean'] = data['Sentence'].apply(lambda x: clean_text(x.lower()))\n",
        "data['text_clean_nostop'] = data['Sentence'].apply(lambda x: clean_text_nostop(x.lower()))\n",
        "data.head()\n"
      ],
      "metadata": {
        "colab": {
          "base_uri": "https://localhost:8080/",
          "height": 206
        },
        "id": "ImtQ7BVX-7C2",
        "outputId": "558134af-7e48-46d6-f3f3-7cbfcda9d57d"
      },
      "execution_count": 6,
      "outputs": [
        {
          "output_type": "execute_result",
          "data": {
            "text/plain": [
              "                                            Sentence Sentiment  \\\n",
              "0  The GeoSolutions technology will leverage Bene...  positive   \n",
              "1  $ESI on lows, down $1.50 to $2.50 BK a real po...  negative   \n",
              "2  For the last quarter of 2010 , Componenta 's n...  positive   \n",
              "3  According to the Finnish-Russian Chamber of Co...   neutral   \n",
              "4  The Swedish buyout firm has sold its remaining...   neutral   \n",
              "\n",
              "                                          text_clean  \\\n",
              "0  [geosolutions, technology, leverage, benefon, ...   \n",
              "1        [esi, low, 150, 250, bk, real, possibility]   \n",
              "2  [last, quarter, 2010, componenta, net, sale, d...   \n",
              "3  [according, finnishrussian, chamber, commerce,...   \n",
              "4  [swedish, buyout, firm, sold, remaining, 224, ...   \n",
              "\n",
              "                                   text_clean_nostop  \n",
              "0  [the, geosolutions, technology, will, leverage...  \n",
              "1  [esi, on, low, down, 150, to, 250, bk, a, real...  \n",
              "2  [for, the, last, quarter, of, 2010, componenta...  \n",
              "3  [according, to, the, finnishrussian, chamber, ...  \n",
              "4  [the, swedish, buyout, firm, ha, sold, it, rem...  "
            ],
            "text/html": [
              "\n",
              "  <div id=\"df-a02f4f35-81c9-4dc9-ad09-dfa1f9552be1\">\n",
              "    <div class=\"colab-df-container\">\n",
              "      <div>\n",
              "<style scoped>\n",
              "    .dataframe tbody tr th:only-of-type {\n",
              "        vertical-align: middle;\n",
              "    }\n",
              "\n",
              "    .dataframe tbody tr th {\n",
              "        vertical-align: top;\n",
              "    }\n",
              "\n",
              "    .dataframe thead th {\n",
              "        text-align: right;\n",
              "    }\n",
              "</style>\n",
              "<table border=\"1\" class=\"dataframe\">\n",
              "  <thead>\n",
              "    <tr style=\"text-align: right;\">\n",
              "      <th></th>\n",
              "      <th>Sentence</th>\n",
              "      <th>Sentiment</th>\n",
              "      <th>text_clean</th>\n",
              "      <th>text_clean_nostop</th>\n",
              "    </tr>\n",
              "  </thead>\n",
              "  <tbody>\n",
              "    <tr>\n",
              "      <th>0</th>\n",
              "      <td>The GeoSolutions technology will leverage Bene...</td>\n",
              "      <td>positive</td>\n",
              "      <td>[geosolutions, technology, leverage, benefon, ...</td>\n",
              "      <td>[the, geosolutions, technology, will, leverage...</td>\n",
              "    </tr>\n",
              "    <tr>\n",
              "      <th>1</th>\n",
              "      <td>$ESI on lows, down $1.50 to $2.50 BK a real po...</td>\n",
              "      <td>negative</td>\n",
              "      <td>[esi, low, 150, 250, bk, real, possibility]</td>\n",
              "      <td>[esi, on, low, down, 150, to, 250, bk, a, real...</td>\n",
              "    </tr>\n",
              "    <tr>\n",
              "      <th>2</th>\n",
              "      <td>For the last quarter of 2010 , Componenta 's n...</td>\n",
              "      <td>positive</td>\n",
              "      <td>[last, quarter, 2010, componenta, net, sale, d...</td>\n",
              "      <td>[for, the, last, quarter, of, 2010, componenta...</td>\n",
              "    </tr>\n",
              "    <tr>\n",
              "      <th>3</th>\n",
              "      <td>According to the Finnish-Russian Chamber of Co...</td>\n",
              "      <td>neutral</td>\n",
              "      <td>[according, finnishrussian, chamber, commerce,...</td>\n",
              "      <td>[according, to, the, finnishrussian, chamber, ...</td>\n",
              "    </tr>\n",
              "    <tr>\n",
              "      <th>4</th>\n",
              "      <td>The Swedish buyout firm has sold its remaining...</td>\n",
              "      <td>neutral</td>\n",
              "      <td>[swedish, buyout, firm, sold, remaining, 224, ...</td>\n",
              "      <td>[the, swedish, buyout, firm, ha, sold, it, rem...</td>\n",
              "    </tr>\n",
              "  </tbody>\n",
              "</table>\n",
              "</div>\n",
              "      <button class=\"colab-df-convert\" onclick=\"convertToInteractive('df-a02f4f35-81c9-4dc9-ad09-dfa1f9552be1')\"\n",
              "              title=\"Convert this dataframe to an interactive table.\"\n",
              "              style=\"display:none;\">\n",
              "        \n",
              "  <svg xmlns=\"http://www.w3.org/2000/svg\" height=\"24px\"viewBox=\"0 0 24 24\"\n",
              "       width=\"24px\">\n",
              "    <path d=\"M0 0h24v24H0V0z\" fill=\"none\"/>\n",
              "    <path d=\"M18.56 5.44l.94 2.06.94-2.06 2.06-.94-2.06-.94-.94-2.06-.94 2.06-2.06.94zm-11 1L8.5 8.5l.94-2.06 2.06-.94-2.06-.94L8.5 2.5l-.94 2.06-2.06.94zm10 10l.94 2.06.94-2.06 2.06-.94-2.06-.94-.94-2.06-.94 2.06-2.06.94z\"/><path d=\"M17.41 7.96l-1.37-1.37c-.4-.4-.92-.59-1.43-.59-.52 0-1.04.2-1.43.59L10.3 9.45l-7.72 7.72c-.78.78-.78 2.05 0 2.83L4 21.41c.39.39.9.59 1.41.59.51 0 1.02-.2 1.41-.59l7.78-7.78 2.81-2.81c.8-.78.8-2.07 0-2.86zM5.41 20L4 18.59l7.72-7.72 1.47 1.35L5.41 20z\"/>\n",
              "  </svg>\n",
              "      </button>\n",
              "      \n",
              "  <style>\n",
              "    .colab-df-container {\n",
              "      display:flex;\n",
              "      flex-wrap:wrap;\n",
              "      gap: 12px;\n",
              "    }\n",
              "\n",
              "    .colab-df-convert {\n",
              "      background-color: #E8F0FE;\n",
              "      border: none;\n",
              "      border-radius: 50%;\n",
              "      cursor: pointer;\n",
              "      display: none;\n",
              "      fill: #1967D2;\n",
              "      height: 32px;\n",
              "      padding: 0 0 0 0;\n",
              "      width: 32px;\n",
              "    }\n",
              "\n",
              "    .colab-df-convert:hover {\n",
              "      background-color: #E2EBFA;\n",
              "      box-shadow: 0px 1px 2px rgba(60, 64, 67, 0.3), 0px 1px 3px 1px rgba(60, 64, 67, 0.15);\n",
              "      fill: #174EA6;\n",
              "    }\n",
              "\n",
              "    [theme=dark] .colab-df-convert {\n",
              "      background-color: #3B4455;\n",
              "      fill: #D2E3FC;\n",
              "    }\n",
              "\n",
              "    [theme=dark] .colab-df-convert:hover {\n",
              "      background-color: #434B5C;\n",
              "      box-shadow: 0px 1px 3px 1px rgba(0, 0, 0, 0.15);\n",
              "      filter: drop-shadow(0px 1px 2px rgba(0, 0, 0, 0.3));\n",
              "      fill: #FFFFFF;\n",
              "    }\n",
              "  </style>\n",
              "\n",
              "      <script>\n",
              "        const buttonEl =\n",
              "          document.querySelector('#df-a02f4f35-81c9-4dc9-ad09-dfa1f9552be1 button.colab-df-convert');\n",
              "        buttonEl.style.display =\n",
              "          google.colab.kernel.accessAllowed ? 'block' : 'none';\n",
              "\n",
              "        async function convertToInteractive(key) {\n",
              "          const element = document.querySelector('#df-a02f4f35-81c9-4dc9-ad09-dfa1f9552be1');\n",
              "          const dataTable =\n",
              "            await google.colab.kernel.invokeFunction('convertToInteractive',\n",
              "                                                     [key], {});\n",
              "          if (!dataTable) return;\n",
              "\n",
              "          const docLinkHtml = 'Like what you see? Visit the ' +\n",
              "            '<a target=\"_blank\" href=https://colab.research.google.com/notebooks/data_table.ipynb>data table notebook</a>'\n",
              "            + ' to learn more about interactive tables.';\n",
              "          element.innerHTML = '';\n",
              "          dataTable['output_type'] = 'display_data';\n",
              "          await google.colab.output.renderOutput(dataTable, element);\n",
              "          const docLink = document.createElement('div');\n",
              "          docLink.innerHTML = docLinkHtml;\n",
              "          element.appendChild(docLink);\n",
              "        }\n",
              "      </script>\n",
              "    </div>\n",
              "  </div>\n",
              "  "
            ]
          },
          "metadata": {},
          "execution_count": 6
        }
      ]
    },
    {
      "cell_type": "code",
      "source": [
        "#labeling target variable\n",
        "dict_label= {'positive': 0, 'neutral': 0 , 'negative': 1}\n",
        "data.Sentiment = data.Sentiment.map(dict_label)\n",
        "#one hot encoding of label for cnn\n",
        "y_ohe = pd.get_dummies(data['Sentiment'])"
      ],
      "metadata": {
        "id": "b7APH0-d_tZc"
      },
      "execution_count": 7,
      "outputs": []
    },
    {
      "cell_type": "code",
      "source": [
        "# CLASSIFFIERS\n",
        "\n",
        "#model_1- Logistic Regression \n",
        "\n",
        "def LogReg_bow_tfidf_ngram(data = data,bow = False,TFIDF = False,Ngram = False, stopw=False):\n",
        "  X = data.sample(frac=1).reset_index(drop= True) # this shuffle data and reset index\n",
        "  y = data.Sentiment.values\n",
        "  if bow and stopw:\n",
        "        count_vec = CountVectorizer(tokenizer = word_tokenize, analyzer=clean_text,token_pattern=None)\n",
        "  elif TFIDF and stopw:\n",
        "      count_vec = TfidfVectorizer(tokenizer = word_tokenize, analyzer=clean_text,token_pattern=None)\n",
        "  elif Ngram and stopw:\n",
        "      count_vec = CountVectorizer(tokenizer = word_tokenize,analyzer=clean_text, token_pattern=None, ngram_range = (1, 3))\n",
        "  elif bow:  \n",
        "       count_vec = CountVectorizer(tokenizer = word_tokenize, analyzer=clean_text_nostop,token_pattern=None)\n",
        "  elif TFIDF:\n",
        "       count_vec = TfidfVectorizer(tokenizer = word_tokenize, analyzer=clean_text_nostop,token_pattern=None)\n",
        "  elif Ngram: \n",
        "      count_vec = CountVectorizer(tokenizer = word_tokenize,analyzer=clean_text_nostop, token_pattern=None, ngram_range = (1, 3))   \n",
        "    \n",
        "  model=LogisticRegression(solver = 'liblinear')\n",
        "  skf = StratifiedKFold(n_splits=5)\n",
        "  lst_accu_stratified=[]\n",
        "  for i, (train_index, test_index) in enumerate(skf.split(X, y)):\n",
        "        \n",
        "        X_train=X.iloc[train_index,:]\n",
        "        X_test=X.iloc[test_index,:]\n",
        "        y_train=y[train_index]\n",
        "        y_test=y[test_index]\n",
        "\n",
        "        Xtrain_countVec = count_vec.fit_transform(X_train['Sentence'])\n",
        "        Xtest_countVec = count_vec.transform(X_test['Sentence'])\n",
        "        \n",
        "        model.fit(Xtrain_countVec,y_train)\n",
        "        y_pred = model.predict(Xtest_countVec)\n",
        "        accuracy_precision = precision_score(y_test, y_pred, average='micro')\n",
        "        accuracy_recall = recall_score(y_test, y_pred, average='micro')\n",
        "        lst_accu_stratified.append([accuracy_precision,accuracy_recall])\n",
        "\n",
        "        #print('precision score:', accuracy_precision)\n",
        "        #print('recall score:', accuracy_recall)\n",
        "        #print(\"========================================================\")\n",
        "  print('Overall precision and recall:',np.mean(lst_accu_stratified,axis=0))\n",
        "        "
      ],
      "metadata": {
        "id": "U6PM2zJyLyi2"
      },
      "execution_count": 14,
      "outputs": []
    },
    {
      "cell_type": "code",
      "source": [
        "# Logistic Regression+ BOW+ text without stopwords\n",
        "LogReg_bow_tfidf_ngram(data = data,bow = True,TFIDF = False,Ngram = False,stopw=True)\n",
        "# Logistic Regression+ TFIDF+ text without stopwords\n",
        "LogReg_bow_tfidf_ngram(data = data,bow = False,TFIDF = True,Ngram = False,stopw=True)\n",
        "# Logistic Regression+ Ngram=3+ text without stopwords\n",
        "LogReg_bow_tfidf_ngram(data = data,bow = False,TFIDF = False,Ngram = True,stopw=True)"
      ],
      "metadata": {
        "colab": {
          "base_uri": "https://localhost:8080/"
        },
        "id": "U2xOuuuAPlik",
        "outputId": "876607e8-b593-4731-911c-4111529678e7"
      },
      "execution_count": 15,
      "outputs": [
        {
          "output_type": "stream",
          "name": "stdout",
          "text": [
            "Overall precision and recall: [0.83019186 0.83019186]\n",
            "Overall precision and recall: [0.85263878 0.85263878]\n",
            "Overall precision and recall: [0.8300199 0.8300199]\n"
          ]
        }
      ]
    },
    {
      "cell_type": "code",
      "source": [
        "# Logistic Regression+ BOW+ text with stopwords\n",
        "LogReg_bow_tfidf_ngram(data = data,bow = True,TFIDF = False,Ngram = False)\n",
        "# Logistic Regression+ TFIDF+ text with stopwords\n",
        "LogReg_bow_tfidf_ngram(data = data,bow = False,TFIDF = True,Ngram = False)\n",
        "# Logistic Regression+ Ngram=3+ text with stopwords\n",
        "LogReg_bow_tfidf_ngram(data = data,bow = False,TFIDF = False,Ngram = True)"
      ],
      "metadata": {
        "colab": {
          "base_uri": "https://localhost:8080/"
        },
        "id": "qyZXnOWSWhiq",
        "outputId": "25cfae89-ebd1-455e-95a6-1de48003154a"
      },
      "execution_count": 16,
      "outputs": [
        {
          "output_type": "stream",
          "name": "stdout",
          "text": [
            "Overall precision and recall: [0.83430556 0.83430556]\n",
            "Overall precision and recall: [0.85263878 0.85263878]\n",
            "Overall precision and recall: [0.83087635 0.83087635]\n"
          ]
        }
      ]
    },
    {
      "cell_type": "code",
      "source": [
        "#model_2- Naive Bayes\n",
        "\n",
        "\n",
        "X = data.sample(frac=1).reset_index(drop= True) # this shuffle data and reset index\n",
        "y = data.Sentiment.values\n",
        "X_train, X_test, y_train, y_test = train_test_split(X, y, test_size=0.25,random_state=0)\n",
        "# text without stopword\n",
        "cv=CountVectorizer(analyzer=clean_text)\n",
        "Xtrain_cv = cv.fit_transform(X_train['Sentence'])\n",
        "Xtest_cv = cv.transform(X_test['Sentence'])\n",
        "\n",
        "classifier1=GaussianNB()\n",
        "classifier1.fit(Xtrain_cv.toarray(),y_train)\n",
        "y_pred=classifier1.predict(Xtest_cv.toarray())\n",
        "accuracy_precision = precision_score(y_test, y_pred, average='micro')\n",
        "accuracy_recall = recall_score(y_test, y_pred, average='micro')\n",
        "print('precision score:', accuracy_precision)\n",
        "print('recall score:', accuracy_recall)\n",
        "print(\"========================================================\")\n",
        "# text with stopword\n",
        "cv=CountVectorizer(analyzer=clean_text_nostop)\n",
        "Xtrain_cv = cv.fit_transform(X_train['Sentence'])\n",
        "Xtest_cv = cv.transform(X_test['Sentence'])\n",
        "classifier2=GaussianNB()\n",
        "classifier2.fit(Xtrain_cv.toarray(),y_train)\n",
        "y_pred=classifier2.predict(Xtest_cv.toarray())\n",
        "accuracy_precision = precision_score(y_test, y_pred, average='micro')\n",
        "accuracy_recall = recall_score(y_test, y_pred, average='micro')\n",
        "print('precision score:', accuracy_precision)\n",
        "print('recall score:', accuracy_recall)\n",
        "print(\"========================================================\")"
      ],
      "metadata": {
        "colab": {
          "base_uri": "https://localhost:8080/"
        },
        "id": "GY-PTKjuA9MQ",
        "outputId": "6cb21dfb-00b5-49e5-8cac-b9e8dfef6faf"
      },
      "execution_count": 28,
      "outputs": [
        {
          "output_type": "stream",
          "name": "stdout",
          "text": [
            "precision score: 0.704592186429061\n",
            "recall score: 0.704592186429061\n",
            "========================================================\n",
            "precision score: 0.7059629883481837\n",
            "recall score: 0.7059629883481837\n",
            "========================================================\n"
          ]
        }
      ]
    },
    {
      "cell_type": "code",
      "source": [
        "#model_3- Random Forest\n",
        "X_train,X_test,y_train,y_test=train_test_split(data['text_clean'],data['Sentiment'],test_size=0.25)\n",
        "w2v_model=gensim.models.Word2Vec(X_train,min_count=1)# Word 2 Vector\n",
        "vecWords=w2v_model.wv.index2word\n",
        "X_train_vect=np.array([np.array([w2v_model.wv[i] for i in ls if i in vecWords]) for ls in X_train])\n",
        "X_test_vect=np.array([np.array([w2v_model.wv[i] for i in ls if i in vecWords]) for ls in X_test])\n",
        "\n",
        "X_train_vect_avg=[]\n",
        "for v in X_train_vect:\n",
        "  if v.size:\n",
        "    X_train_vect_avg.append(v.mean(axis=0))\n",
        "  else:\n",
        "      X_train_vect_avg.append(np.zeros(100,dtype=float))\n",
        "\n",
        "X_test_vect_avg=[]\n",
        "for v in X_test_vect:\n",
        "  if v.size:\n",
        "    X_test_vect_avg.append(v.mean(axis=0))\n",
        "  else:\n",
        "      X_test_vect_avg.append(np.zeros(100,dtype=float))\n",
        "\n",
        "clf=RandomForestClassifier(n_estimators=100)\n",
        "clf.fit(X_train_vect_avg,y_train)\n",
        "y_pred=clf.predict(X_test_vect_avg)\n",
        "accuracy_precision = precision_score(y_test, y_pred, average='micro')\n",
        "accuracy_recall = recall_score(y_test, y_pred, average='micro')\n",
        "print('precision score:', accuracy_precision)\n",
        "print('recall score:', accuracy_recall)\n",
        "print(\"========================================================\")          "
      ],
      "metadata": {
        "colab": {
          "base_uri": "https://localhost:8080/"
        },
        "id": "KRMHK9R4BCLI",
        "outputId": "1ac4d399-5aa8-4c26-e4ae-2e4196f23e3b"
      },
      "execution_count": 29,
      "outputs": [
        {
          "output_type": "stream",
          "name": "stdout",
          "text": [
            "precision score: 0.7909527073337903\n",
            "recall score: 0.7909527073337903\n",
            "========================================================\n"
          ]
        }
      ]
    }
  ]
}